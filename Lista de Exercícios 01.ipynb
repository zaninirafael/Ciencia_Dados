{
 "cells": [
  {
   "cell_type": "markdown",
   "metadata": {},
   "source": [
    "## Ciência de Dados e Big Data\n",
    "\n",
    "### Python - Lista de Exercícios 01\n",
    "\n",
    "#### Rafael Zanini Silveira"
   ]
  },
  {
   "cell_type": "markdown",
   "metadata": {},
   "source": [
    "1. Uma empresa quer transmitir dados pelo telefone, mas está preocupada com a interceptação telefônica. Todos os seus dados são transmitidos  como inteiros de quatro dígitos. Ela pediu para que você escreva um programa que criptografe seus dados, para que eles possam ser transmitidos com mais segurança. Seu aplicativo deve ler um inteiro de quatro dígitos fornecidos pelo usuário e criptografá-lo da seguinte forma: substitua cada dígitos por (a soma desse dígitos mais 7) módulo 10. Em seguida, troque o primeiro dígito pelo terceiro e troque o segundo dígito pelo quarto e imprima o inteiro criptografado."
   ]
  },
  {
   "cell_type": "code",
   "execution_count": 3,
   "metadata": {},
   "outputs": [
    {
     "name": "stdin",
     "output_type": "stream",
     "text": [
      "Digite um número de 4 digitos:  4587\n"
     ]
    },
    {
     "name": "stdout",
     "output_type": "stream",
     "text": [
      "Numero codificado: 5412\n"
     ]
    }
   ],
   "source": [
    "# Solução Exercício 01\n",
    "\n",
    "numero = input('Digite um número de 4 digitos: ')\n",
    "lista = []\n",
    "\n",
    "for digito in numero:\n",
    "    lista.append(str((int(digito)+7)%10)) \n",
    "\n",
    "codigo = lista[2] + lista[3] + lista [0] + lista[1]    \n",
    "    \n",
    "print('Numero codificado: ' + codigo)\n"
   ]
  },
  {
   "cell_type": "markdown",
   "metadata": {},
   "source": [
    "2. Implemente a função par que retorna verdadeiro se um número inteiro passado como parâmetro for par ou falso caso ele seja ímpar. Teste seu programa chamando a função para verificar os números de 0 à 10."
   ]
  },
  {
   "cell_type": "code",
   "execution_count": 2,
   "metadata": {},
   "outputs": [
    {
     "name": "stdout",
     "output_type": "stream",
     "text": [
      "0 é par? Sim\n",
      "1 é par? Não\n",
      "2 é par? Sim\n",
      "3 é par? Não\n",
      "4 é par? Sim\n",
      "5 é par? Não\n",
      "6 é par? Sim\n",
      "7 é par? Não\n",
      "8 é par? Sim\n",
      "9 é par? Não\n",
      "10 é par? Sim\n"
     ]
    }
   ],
   "source": [
    "# Solução Exercício 02\n",
    "\n",
    "def par(inteiro):    \n",
    "    if ((inteiro%2) == 0):\n",
    "        return \"Sim\"\n",
    "    else:\n",
    "        return \"Não\"\n",
    "    \n",
    "for i in range(11):\n",
    "    print(str(i) + \" é par? \" + str(par(i)))\n"
   ]
  },
  {
   "cell_type": "markdown",
   "metadata": {},
   "source": [
    "3. Escreva um programa que leia 3 números inteiros referente ao comprimento dos lados de um triângulo e classifique como: triângulo equilátero, isósceles ou escaleno."
   ]
  },
  {
   "cell_type": "code",
   "execution_count": 4,
   "metadata": {},
   "outputs": [
    {
     "name": "stdin",
     "output_type": "stream",
     "text": [
      "Digite o lado AB do triângulo:  78\n",
      "Digite o lado BC do triângulo:  58\n",
      "Digite o lado CA do triângulo:  78\n"
     ]
    },
    {
     "name": "stdout",
     "output_type": "stream",
     "text": [
      "Seu trinângulo é Isósceles\n"
     ]
    }
   ],
   "source": [
    "# Solução Exercício 03\n",
    "\n",
    "lado_ab = int(input('Digite o lado AB do triângulo: '))\n",
    "lado_bc = int(input('Digite o lado BC do triângulo: '))\n",
    "lado_ca = int(input('Digite o lado CA do triângulo: '))\n",
    "\n",
    "if (lado_ab == lado_bc):\n",
    "    if (lado_bc == lado_ca):\n",
    "        print('Seu trinângulo é Equilátero')\n",
    "    else:\n",
    "        print('Seu trinângulo é Isósceles')\n",
    "elif (lado_ab == lado_ca):\n",
    "    print('Seu trinângulo é Isósceles')\n",
    "else:\n",
    "    print('Seu trinângulo é Escaleno')\n"
   ]
  },
  {
   "cell_type": "markdown",
   "metadata": {},
   "source": [
    "4. Escreva um programa que aceita um número como entrada e insere hífens (-) entre dois números pares. Por exemplo, se receber o número 02368859 como entrada, a saída do programa deverá ser: 0-236-8-859."
   ]
  },
  {
   "cell_type": "code",
   "execution_count": 4,
   "metadata": {},
   "outputs": [
    {
     "name": "stdin",
     "output_type": "stream",
     "text": [
      "Digite um número:  2857688793\n"
     ]
    },
    {
     "name": "stdout",
     "output_type": "stream",
     "text": [
      "2-8576-8-8793\n"
     ]
    }
   ],
   "source": [
    "# Solução Exercício 04\n",
    "\n",
    "numero = input('Digite um número: ')\n",
    "lista = []\n",
    "saida = \"\"\n",
    "par = False\n",
    "\n",
    "for digito in numero:\n",
    "    lista.append(digito)\n",
    "    \n",
    "for i, item in enumerate(lista):\n",
    "    if (par == True):\n",
    "        if ((int(lista[i])%2) == 0):\n",
    "            par = True\n",
    "            saida = saida + \"-\" + lista[i]\n",
    "        else:\n",
    "            par = False\n",
    "            saida = saida + lista[i]\n",
    "    elif ((int(lista[i])%2) == 0):\n",
    "        par = True\n",
    "        saida = saida + lista[i]\n",
    "    else:\n",
    "        par = False\n",
    "        saida = saida + lista[i]\n",
    "\n",
    "print(saida)\n"
   ]
  },
  {
   "cell_type": "markdown",
   "metadata": {},
   "source": [
    "5. Escreva um programa que encontre o item mais frequente de um vetor. Exemplo: [2, 7, 7, 7, ‘#’, ‘#’, ‘#’, ‘@’, 3, ‘#’, 6] Saída: # aparece 4 vezes"
   ]
  },
  {
   "cell_type": "code",
   "execution_count": 2,
   "metadata": {},
   "outputs": [
    {
     "name": "stdout",
     "output_type": "stream",
     "text": [
      "O valor # aparece 4 vezes\n"
     ]
    }
   ],
   "source": [
    "# Solução Exercício 05\n",
    "\n",
    "vetor = [2, 7, 7, 7, '#', '#', '#', '@', 3, '#', 6]\n",
    "posicao = 0\n",
    "contador = 0\n",
    "auxiliar = 0\n",
    "i = 0\n",
    "j = 0\n",
    "\n",
    "while i < len(vetor):\n",
    "    while j < len(vetor):\n",
    "        if (vetor[i] == vetor[j]):\n",
    "            contador = contador + 1\n",
    "        j = j + 1\n",
    "    if (contador > auxiliar):\n",
    "        posicao = i\n",
    "        auxiliar = contador\n",
    "    contador = 0\n",
    "    i = i + 1\n",
    "    j = 0\n",
    "\n",
    "print('O valor ' + str(vetor[posicao]) + ' aparece ' + str(auxiliar) + ' vezes')\n"
   ]
  },
  {
   "cell_type": "markdown",
   "metadata": {},
   "source": [
    "6. Um número de Armstrong de 3 dígitos é um inteiro pelo qual a soma dos cubos dos seus dígitos é igual ao seu número. Por exemplo: o número inteiro 371 é um número de Armstrong, porque 3³ + 7³ + 1³ = 371. Escreva um programa que verifique se um número de 3 dígitos fornecido como entrada é um número de Armstrong."
   ]
  },
  {
   "cell_type": "code",
   "execution_count": 6,
   "metadata": {},
   "outputs": [
    {
     "name": "stdin",
     "output_type": "stream",
     "text": [
      "Digite um número de 3 digitos:  371\n"
     ]
    },
    {
     "name": "stdout",
     "output_type": "stream",
     "text": [
      "Este é um número de Armstrong.\n"
     ]
    }
   ],
   "source": [
    "# Solução Exercício 06\n",
    "\n",
    "entrada = input('Digite um número de 3 digitos: ')\n",
    "numero = 0\n",
    "\n",
    "for digito in entrada:\n",
    "    numero = numero + int(digito)**3\n",
    "    \n",
    "if (numero == int(entrada)):\n",
    "    print('Este é um número de Armstrong.')\n",
    "else:\n",
    "    print('Este não é um número de Armstrong.')\n"
   ]
  },
  {
   "cell_type": "markdown",
   "metadata": {},
   "source": [
    "7. Escreva uma função que receba uma string e conte o número de vogais dentro dela, por exemplo: entrada: ‘Ciência de Dados’, saída: 7 vogais"
   ]
  },
  {
   "cell_type": "code",
   "execution_count": 1,
   "metadata": {},
   "outputs": [
    {
     "name": "stdin",
     "output_type": "stream",
     "text": [
      "Digite uma palavra:  Elefante\n"
     ]
    },
    {
     "name": "stdout",
     "output_type": "stream",
     "text": [
      "Esta palavra tem 4 vogais\n"
     ]
    }
   ],
   "source": [
    "# Solução Exercício 07\n",
    "\n",
    "entrada = input('Digite uma palavra: ')\n",
    "vogais = ['A', 'E', 'I', 'O', 'U', 'a', 'e', 'i', 'o', 'u']\n",
    "contador = 0\n",
    "\n",
    "for posicao in entrada:\n",
    "    for vogal in vogais:\n",
    "        if (posicao == vogal):\n",
    "            contador = contador + 1\n",
    "        \n",
    "print('Esta palavra tem ' + str(contador) + ' vogais')"
   ]
  },
  {
   "cell_type": "markdown",
   "metadata": {},
   "source": [
    "8. Implemente em Python o algoritmo de Busca Binária"
   ]
  },
  {
   "cell_type": "code",
   "execution_count": 16,
   "metadata": {},
   "outputs": [
    {
     "name": "stdout",
     "output_type": "stream",
     "text": [
      "A posição na lista do 89 é 10\n"
     ]
    }
   ],
   "source": [
    "# Solução Exercício 08\n",
    "\n",
    "lista = [5, 8, 11, 16, 21, 27, 30, 33, 41, 65, 89, 91, 92, 100]\n",
    "\n",
    "def busca_binaria(lista, numero):\n",
    "    minimo = 0\n",
    "    maximo = len(lista)-1\n",
    "    posicao = (minimo+maximo)//2\n",
    "    while (lista[posicao] != numero):\n",
    "        if (lista[posicao] > numero):\n",
    "            maximo = posicao - 1\n",
    "        else:\n",
    "            minimo = posicao + 1\n",
    "        posicao = (minimo+maximo)//2\n",
    "    return posicao\n",
    "\n",
    "numero = 89\n",
    "resultado = busca_binaria(lista, numero)\n",
    "\n",
    "print('A posição na lista do ' + str(numero) + ' é ' + str(resultado))\n",
    "    "
   ]
  },
  {
   "cell_type": "markdown",
   "metadata": {},
   "source": [
    "9. Escreva uma função que receba algum valor como parâmetro e retorne seu tipo"
   ]
  },
  {
   "cell_type": "code",
   "execution_count": 26,
   "metadata": {},
   "outputs": [
    {
     "name": "stdout",
     "output_type": "stream",
     "text": [
      "<class 'list'>\n"
     ]
    }
   ],
   "source": [
    "# Solução Exercício 09\n",
    "\n",
    "def tipo(variavel):\n",
    "    return type(variavel)\n",
    "\n",
    "variavel = [1, 2, 3]\n",
    "\n",
    "print(tipo(variavel))\n"
   ]
  },
  {
   "cell_type": "markdown",
   "metadata": {},
   "source": [
    "10. Escreva uma função que receba um lista numérica como parâmetro e retorne os segundos maiores e menores números da sequência, por exemplo: entrada [1, 2, 3, 4, 5, 6, 7, 8, 9], saída [2, 8]."
   ]
  },
  {
   "cell_type": "code",
   "execution_count": 36,
   "metadata": {},
   "outputs": [
    {
     "name": "stdout",
     "output_type": "stream",
     "text": [
      "[34, 8, 11, 21, 45, 27, 88, 1, 41, 65, 89, 2, 92, 31]\n",
      "[2, 89]\n"
     ]
    }
   ],
   "source": [
    "# Solução Exercício 10\n",
    "\n",
    "lista = [34, 8, 11, 21, 45, 27, 88, 1, 41, 65, 89, 2, 92, 31]\n",
    "\n",
    "def smenor_smaior(lista):\n",
    "    ordenada = sorted(lista)\n",
    "    resultado = [ordenada[1], ordenada[len(ordenada)-2]]\n",
    "    return resultado\n",
    "\n",
    "print(lista)\n",
    "print(smenor_smaior(lista))\n",
    "        "
   ]
  },
  {
   "cell_type": "markdown",
   "metadata": {},
   "source": [
    "11.  Escreva uma função que receba um número inteiro como entrada (px.: 32243) e retorne o número invertido (px.: 34223)."
   ]
  },
  {
   "cell_type": "code",
   "execution_count": 53,
   "metadata": {},
   "outputs": [
    {
     "name": "stdin",
     "output_type": "stream",
     "text": [
      "Digite um numero com 2 ou mais digitos:  72598136\n"
     ]
    },
    {
     "name": "stdout",
     "output_type": "stream",
     "text": [
      "63189527\n"
     ]
    }
   ],
   "source": [
    "# Solução Exercício 11\n",
    "\n",
    "numero = input('Digite um numero com 2 ou mais digitos: ')\n",
    "resultado = \"\"\n",
    "lista = []\n",
    "\n",
    "for digito in numero:\n",
    "    lista.append(digito)\n",
    "   \n",
    "for i in range((len(lista) - 1), -1, -1):\n",
    "    resultado = resultado + lista[i]\n",
    "    \n",
    "print(resultado)"
   ]
  }
 ],
 "metadata": {
  "kernelspec": {
   "display_name": "Python 3",
   "language": "python",
   "name": "python3"
  },
  "language_info": {
   "codemirror_mode": {
    "name": "ipython",
    "version": 3
   },
   "file_extension": ".py",
   "mimetype": "text/x-python",
   "name": "python",
   "nbconvert_exporter": "python",
   "pygments_lexer": "ipython3",
   "version": "3.7.1"
  }
 },
 "nbformat": 4,
 "nbformat_minor": 2
}
